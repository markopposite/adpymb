{
 "cells": [
  {
   "attachments": {},
   "cell_type": "markdown",
   "id": "2495da7c",
   "metadata": {},
   "source": [
    "\n",
    "Notebook for keeping track of the general theory used to compute a \n",
    "parametric model for temperature as a function of backscatter\n",
    "\n",
    "\n",
    "\n",
    "See the suspended sediment papers:\\\n",
    "https://pubs.usgs.gov/tm/03/c05/tm3c5.pdf \\\n",
    "https://pubs.usgs.gov/sir/2006/5055/pdf/SIR2006-5055.pdf \\\n",
    "https://link.springer.com/article/10.1007/s12237-008-9050-y \n",
    " \n",
    "\n",
    "\n",
    "\n"
   ]
  },
  {
   "cell_type": "code",
   "execution_count": null,
   "id": "d76ed398",
   "metadata": {},
   "outputs": [],
   "source": [
    "#### Measured Backscatter general theorem #### "
   ]
  },
  {
   "attachments": {},
   "cell_type": "markdown",
   "id": "22c35e4d",
   "metadata": {},
   "source": [
    "$$ MB = SL-2TL+TS $$"
   ]
  },
  {
   "cell_type": "code",
   "execution_count": null,
   "id": "8f9e7b01",
   "metadata": {},
   "outputs": [],
   "source": [
    "#### Source Level term #### "
   ]
  },
  {
   "attachments": {},
   "cell_type": "markdown",
   "id": "844c10b4",
   "metadata": {},
   "source": [
    "$$ SL = 10 \\log_{10} \\left( \\frac{Transmitted ~Power}{Reference ~Power} \\right) $$\n",
    "\n",
    "$$ SL = 10\\log_{10}\\frac{Transmission~Current~ * ~ Transmission~Voltage}{(1~Watt)} $$\n"
   ]
  },
  {
   "cell_type": "code",
   "execution_count": null,
   "id": "66c1c1c9",
   "metadata": {},
   "outputs": [],
   "source": [
    "#### Transmission Loss terms #### "
   ]
  },
  {
   "attachments": {},
   "cell_type": "markdown",
   "id": "f33eb932",
   "metadata": {},
   "source": [
    "$$ TL = 20\\log_{10} {(\\Psi r)} +2 \\alpha_w r + 2 \\alpha_s r$$"
   ]
  },
  {
   "cell_type": "code",
   "execution_count": 9,
   "id": "0f6b0055",
   "metadata": {},
   "outputs": [],
   "source": [
    "# slant distance r"
   ]
  },
  {
   "attachments": {},
   "cell_type": "markdown",
   "id": "2b21262a",
   "metadata": {},
   "source": [
    "Variations on this term have included:\\\n",
    "\\\n",
    "USGS hydroacoustics Training slides\n",
    "$$\n",
    "r = ~ \\frac{bin~depth} { \\cos(20^{\\circ})}\n",
    "$$\n",
    "\n",
    "WinRiverII version\n",
    "$$ R = \\frac{r + 1/2 }{\\cos \\theta} $$\n",
    "USGS Wall et al 2006\n",
    "$$ R = r + D/4 $$\n",
    "USGS Landers et al 2016\n",
    "$$ R = \\frac{D_{blank} + (D-1)(L_{xmit} + 0.5 L_{xmit})}{\\cos \\theta}\n"
   ]
  },
  {
   "cell_type": "code",
   "execution_count": 7,
   "id": "70216c81",
   "metadata": {},
   "outputs": [],
   "source": [
    "# sediment attenuation coefficient"
   ]
  },
  {
   "attachments": {},
   "cell_type": "markdown",
   "id": "a84456f6",
   "metadata": {},
   "source": [
    "$$ \n",
    "\\alpha_s = - \\frac{1}{2} \\frac{d}{dr} WCB\n",
    "$$"
   ]
  },
  {
   "attachments": {},
   "cell_type": "markdown",
   "id": "cd76d666",
   "metadata": {},
   "source": [
    "$$\n",
    "WCB = MB + 20\\log_{10} {(\\psi r)} +2 \\alpha_w r \n",
    "$$"
   ]
  },
  {
   "attachments": {},
   "cell_type": "markdown",
   "id": "3f45cf2a",
   "metadata": {},
   "source": [
    "$$\n",
    "\\frac{d}{dr} WCB = \\frac{20}{r \\ln (10)} + 2 \\alpha_w\n",
    "$$"
   ]
  },
  {
   "attachments": {},
   "cell_type": "markdown",
   "id": "cb219344",
   "metadata": {},
   "source": [
    "$$\n",
    "\\alpha_s = - \\left( \\frac{10}{r \\ln (10)}  + \\alpha_w \\right)\n",
    "$$"
   ]
  },
  {
   "cell_type": "code",
   "execution_count": null,
   "id": "a48ffa44",
   "metadata": {},
   "outputs": [],
   "source": [
    "# water absorption coefficient"
   ]
  },
  {
   "attachments": {},
   "cell_type": "markdown",
   "id": "f489fc1a",
   "metadata": {},
   "source": [
    "$$\n",
    "\\alpha_{w} = 8.69 \\left( \n",
    "\\frac{SA_{w}f_{T}f^{2}}{f_{T}^{2} + f_{T}} \n",
    "+ \\frac{B_{w}f^{2}}{f_{T}} \\right) \n",
    "(1 - 6.54 \\times 10^{-4}P)\n",
    "$$\n",
    "\n",
    "\n",
    "$ 8.69$  is the conversion factor of dB to nepers\n",
    "\n",
    "$ S$ is the salinity in $[ppt]$ , $S \\to 0 $ in freshwater\n",
    "\n",
    "$ A_{w} = 2.34x10^{~-~6} $ is the constant for ionic relaxation in sea water \n",
    "\n",
    "$ B_{w} = 3.38x10^{-6} $ is the viscosity constant in fresh water\n",
    "\n",
    "$ f $ is the acoustic frequency of the source in $[kHz]$\n",
    "\n",
    "$ f_{T} = 21.9 \\times 10^{\\left(~6~- ~\\frac{1520}{T~ + ~273} ~\\right)} $ is the relaxation frequency for sound in  in $[kHz]$ in water for temperature T $[c]$\n",
    "\n",
    "$P$ is pressure in $[Atm]$"
   ]
  },
  {
   "cell_type": "code",
   "execution_count": null,
   "id": "2a8e4a52",
   "metadata": {},
   "outputs": [],
   "source": [
    "# near-field geometric beam spreading coefficient"
   ]
  },
  {
   "attachments": {},
   "cell_type": "markdown",
   "id": "53b4f331",
   "metadata": {},
   "source": [
    "$$\n",
    "\\psi = 1 + \\frac{1}{ \\frac{1.35r}{r_n} + \\left( \\frac{2.5r}{r_n} \\right)^{3.2} }\n",
    "$$\n",
    "\n",
    "$$~r_n = \\frac{A}{c~/f} = \\frac{A}{\\lambda} $$\n",
    "\n",
    "$$\n",
    "for ~r>r_n~,~\\psi \\to 1\n",
    "$$\n",
    "\n",
    "\n",
    "\n",
    "$ r_n $ is the Rayleigh Distance\n",
    "\n",
    "$ A ~ [m^2] $ is effective transducer area\n",
    "\n",
    "$ \\lambda ~[m] $ is wavelength of the acoustic wave\n",
    "\n",
    "$ c ~[m/s^2]$ is the speed of sound in water \n",
    "\n",
    "\n",
    "$  c = 1.402385x10^3 + 5.038813T - 5.799136x10^{-2}T^2 + 3.287156x10^{-4}T^3 -1.398845x10^{-6}T^{4} + 2.78786x10^{-9}T^{5}$\n",
    "\n",
    "$ T ~[c] $ is water temperature in celcius"
   ]
  },
  {
   "cell_type": "code",
   "execution_count": null,
   "id": "8c4df2be",
   "metadata": {},
   "outputs": [],
   "source": [
    "#### Target Strength term, can ignore for our initial stage ####"
   ]
  },
  {
   "attachments": {},
   "cell_type": "markdown",
   "id": "7fc2e612",
   "metadata": {},
   "source": [
    "$$ TS=10 \\log_{10} {\\left( \\frac{SSC}{\\left<M_p \\right>} \\frac{\\left< f^{2} a_p^{2} \\right> }{4} l_v \\Psi r^2  \\right)} $$\n",
    "\n",
    "$$ for ~SSC \\to 0 ~,~\\log_{10} \\to - \\infty $$"
   ]
  },
  {
   "cell_type": "code",
   "execution_count": null,
   "id": "f4a12a37",
   "metadata": {},
   "outputs": [],
   "source": [
    "# Measured backscatter assuming sediment terms -> 0 "
   ]
  },
  {
   "attachments": {},
   "cell_type": "markdown",
   "id": "d8a956f4",
   "metadata": {},
   "source": [
    "$$\n",
    "MB = SL - 40 \\log_{10}(r) - 4r \\left( 8.69 \n",
    "\\frac{ B_{w} f^{2} } {21.9 \\times 10^{ \\left( 6 -  \\frac{1520}{T+273} \\right)  } }\n",
    "\\right) (1 - 6354 \\times 10^{-4}P)\n",
    "$$\n",
    "\n"
   ]
  },
  {
   "attachments": {},
   "cell_type": "markdown",
   "id": "fc262b6d",
   "metadata": {},
   "source": [
    "$$\n",
    " = SL - 40 \\log_{10}(r) - 4r \\left( 8.69\n",
    "\\frac{ B_{w} f^{2} } {21.9x10^{6} }\n",
    "\\right) P_0  10^{ \\left( \\frac{1520}{T+273} \\right)}\n",
    "$$\n",
    "\n",
    "\n",
    "$$\n",
    "= SL - 40 \\log_{10}(r) - 4r \\beta P_0 10^{ \\left( \\frac{1520}{T+273} \\right) }\n",
    "$$"
   ]
  },
  {
   "attachments": {},
   "cell_type": "markdown",
   "id": "06e32465",
   "metadata": {},
   "source": [
    "$$\n",
    "\\frac{\\Delta L - B_s}{r \\beta P_0} = 10^{\\left( \\frac{1520}{T+273} \\right)}\n",
    "$$"
   ]
  },
  {
   "cell_type": "code",
   "execution_count": 10,
   "id": "b5eae06f",
   "metadata": {},
   "outputs": [],
   "source": [
    "# Temperature function"
   ]
  },
  {
   "attachments": {},
   "cell_type": "markdown",
   "id": "95ce9ab8",
   "metadata": {},
   "source": [
    "\n",
    "$$\n",
    "\\implies T = \\frac{1520}{\\log_{10}(\\Delta L - B_{s}) - \\log_{10}(r \\beta P_{0} )} - 273\n",
    "$$ "
   ]
  },
  {
   "cell_type": "code",
   "execution_count": null,
   "id": "f0b7150a",
   "metadata": {},
   "outputs": [],
   "source": [
    "# terms and factors redefined in measured backscatter"
   ]
  },
  {
   "attachments": {},
   "cell_type": "markdown",
   "id": "a1ac95a2",
   "metadata": {},
   "source": [
    "$$\n",
    "\\Delta L = \\frac{|~MB -SL~|}{4}\n",
    "$$\n",
    "\n",
    "$$\n",
    "B_s = 10 \\log_{10}(r)\n",
    "$$\n",
    "\n",
    "$$\n",
    " \\beta = 8.69  \\frac{B_w f^2}{21.9x10^6} \n",
    "$$\n",
    "\n",
    "$$\n",
    "P_0 = (1 - 6354x10^{-4}P)\n",
    "$$\n"
   ]
  },
  {
   "cell_type": "code",
   "execution_count": 11,
   "id": "f2668f4c",
   "metadata": {},
   "outputs": [],
   "source": [
    "#### Toy model for temperature parameters ####"
   ]
  },
  {
   "cell_type": "code",
   "execution_count": null,
   "id": "6d4a649b",
   "metadata": {},
   "outputs": [],
   "source": [
    "# Keep temperature function in simple form"
   ]
  },
  {
   "attachments": {},
   "cell_type": "markdown",
   "id": "697fc161",
   "metadata": {},
   "source": [
    "$$\n",
    "T = \\frac{1520}{\\log_{10} \\left( \\frac{\\Delta L-B_{s}}{2r \\beta P_{0}} \\right)} - 273\n",
    "$$\n"
   ]
  },
  {
   "cell_type": "code",
   "execution_count": null,
   "id": "c59e2e27",
   "metadata": {},
   "outputs": [],
   "source": [
    "# Can fit for model parameters using the general form"
   ]
  },
  {
   "attachments": {},
   "cell_type": "markdown",
   "id": "25f2f4ca",
   "metadata": {},
   "source": [
    "$$\n",
    "T_{parameter~fit} = \\left[ \\log_{10} \\left( \\frac{a*x - b} { c } \\right) \\right]^{-1}\n",
    "$$\n",
    "\n"
   ]
  },
  {
   "attachments": {},
   "cell_type": "markdown",
   "id": "a5474b8f",
   "metadata": {},
   "source": [
    " Where using simulated data I found "
   ]
  },
  {
   "attachments": {},
   "cell_type": "markdown",
   "id": "d4109ac6",
   "metadata": {},
   "source": [
    "$ a=0.01124745, ~ b=-2.36404575, ~and ~c=2.66706995 $ so that now"
   ]
  },
  {
   "attachments": {},
   "cell_type": "markdown",
   "id": "7f34e80b",
   "metadata": {},
   "source": [
    "$$\n",
    "T_{Amp} = \\left[ \\log_{10} \\left( \\frac{0.01124745x + 2.36404575} { 2.66706995 } \\right) \\right]^{-1}\n",
    "$$"
   ]
  },
  {
   "attachments": {},
   "cell_type": "markdown",
   "id": "8621f05b",
   "metadata": {},
   "source": [
    "This model is divergent, continue on to mb theory notebook 2 to remodel including the pressure function"
   ]
  },
  {
   "cell_type": "code",
   "execution_count": null,
   "id": "c10b4e61",
   "metadata": {},
   "outputs": [],
   "source": []
  },
  {
   "attachments": {},
   "cell_type": "markdown",
   "id": "a371a338",
   "metadata": {},
   "source": [
    "For tracking different methods used to analytically solve for temperature. \\\n",
    "See: mb_latex_theory notebook\n",
    "\n",
    "\n",
    "\n",
    "See also the suspended sediment papers:\\\n",
    "https://pubs.usgs.gov/tm/03/c05/tm3c5.pdf \\\n",
    "https://pubs.usgs.gov/sir/2006/5055/pdf/SIR2006-5055.pdf \\\n",
    "https://link.springer.com/article/10.1007/s12237-008-9050-y \n",
    " \n",
    "\n",
    "\n",
    "\n",
    "\n",
    "#### Measured Backscatter general theorem #### \n",
    "$$ MB = SL-2TL+TS $$\n",
    "\n",
    " Earlier form of Measured backscatter assuming sediment terms -> 0 \n",
    "\n",
    "$$\n",
    "MB = SL - 40 \\log_{10}(r) - 4r \\left( 8.69 \n",
    "\\frac{ B_{w} f^{2} } {21.9x10^{ \\left( 6 -  \\frac{1520}{T+273} \\right)  } }\n",
    "\\right) (1 - 6.354x10^{-4}P) \n",
    "\\ $$ \n",
    "\n",
    "\n",
    "$$\n",
    "\\implies T = \\frac{1520}{\\log_{10}(\\Delta L - B_{s}) - \\log_{10}(r \\beta P_{0} )} - 273\n",
    "\\ $$ \n",
    "\n",
    "\n",
    "\n",
    "Where\n",
    "$\n",
    "\\Delta L = \\frac{|~MB -SL~|}{4} ~ \\\n",
    "$\n",
    ",\n",
    "$\n",
    "B_s = 10 \\log_{10}(r) ~\n",
    "$\n",
    ",\n",
    "$\n",
    " \\beta = 8.69  \\frac{B_w f^2}{21.9x10^6}  ~\n",
    "$\n",
    ", and \n",
    "$\n",
    "P_0 = (1 - 6.354x10^{-4}P) ~\n",
    "$\n",
    "\n",
    "New form for MB including density from the pressure factor to find T\n",
    "\n",
    "\n",
    "$$\n",
    "MB = SL - BS - 4r \\left( 8.69 \n",
    "\\frac{B_{w} f^{2}} {21.9x10^{ \\left(6 - \\frac{1520}{T+273} \\right)}}\n",
    "\\right) (1 - 6354x10^{-4}\\rho g h ) \n",
    "$$ \n",
    "\n",
    "Where \n",
    "\n",
    "$ \\rho = \\rho_r [1 - \\beta~(T - T_r)]$ \n",
    "\n",
    "$ g = 9.81 m/s^2  ~$\n",
    "\n",
    "$ h$ is depth below water surface elevation (WSE)\n",
    "$$\n",
    "MB = SL - BS - 4r \\left( 8.69 \n",
    "\\frac{B_{w} f^{2}} {21.9 \\times 10^{ \\left(6 - \\frac{1520}{ {\\color{red}{T}} +273} \\right)}}\n",
    "\\right) [1 - 6354 \\times 10^{-4}g h  \\rho_r (1 - \\beta~( {\\color{red}{T}} - T_r))]\n",
    "$$ \n",
    "\n",
    "$$\n",
    "21.9 \\times {10^{ \\left(6 - \\frac{1520}{T+273} \\right)}}\n",
    "\\frac \n",
    "{ MB - SL + BS}\n",
    "{ 4r(8.69)B_{w} f^{2}}  ~\n",
    "{\\color{yellow}{=}} ~\n",
    "{1~-~6.354 \\times 10^{-4} \\rho_r g h  + 6.354 \\times 10^{-4} \\rho_r g h  \n",
    "\\beta ~T - 6.354 \\times 10^{-4} g h \\rho_r \\beta ~T_r}\n",
    "$$ \n",
    "\n",
    "\n",
    "\n",
    "$$\n",
    "21.9 \\times 10^6 \\times {\\color{white}{{10^{ \\left(- \\frac{1520}{T+273} \\right)}}}}\n",
    "\\frac \n",
    "{ MB - SL + BS}\n",
    "{ 4r(8.69)B_{w} f^{2}}  - 1 + ~6.354 \\times 10^{-4} \\rho_r g h + 6.354 \\times 10^{-4} g h \\rho_r \\beta ~T_r ~\n",
    "{\\color{yellow}{=}} ~\n",
    "{ 6.354 \\times 10^{-4} \\rho_r g h  \\beta ~T }\n",
    "$$ \n",
    "\n",
    "\n",
    "\n",
    "$$\n",
    "10^{f(T)} \\times {\\color{orange}{(21.9 \\times 10^6)\n",
    "\\frac \n",
    "{ MB - SL + BS}\n",
    "{ 4r(8.69)B_{w} f^{2}}}} - \\color{GreenYellow}{ 1 + ~6.354 \\times 10^{-4} \\rho_r g h (1 +  \\beta ~T_r)} ~\n",
    "\\color{white}{=}~\n",
    "\\color{orange}{6.354 \\times 10^{-4} \\rho_r g h  \\beta} ~ \\times T \n",
    "$$ \n",
    "\n",
    "Note that:\n",
    "\n",
    "$ f(T) = {{ \\left(- \\frac{1520}{T+273} \\right)}}$ \n",
    "\n",
    "\n",
    "$$\n",
    "10^{f(T)} {\\color{orange}{\\frac{21.9 \\times 10^6 }{ 6.354 \\times 10^{-4} \\rho_r g h  \\beta} \n",
    "\\frac{ MB - SL + BS}{4r(8.69)B_{w} f^{2}} }} \n",
    "+ {\\color{GreenYellow}{\\frac {(\\beta ~T_r + ~1)}{\\beta} \n",
    "- \\frac{1}{ 6.354 \\times 10^{-4} \\rho_r g h  \\beta}}}\n",
    "~ {\\color{white}{=}} ~\n",
    " {  ~T }\n",
    "$$ \n",
    "\n",
    "\n",
    "Let $ a = \\color{orange}{\\frac{21.9 \\times 10^6 }{ 6.354 \\times 10^{-4} \\rho_r g h  \\beta} \n",
    "\\frac{ MB - SL + BS}{4r(8.69)B_{w} f^{2}} } $\n",
    "\n",
    "and $ b = \\color{GreenYellow}{\\frac{(\\beta ~T_r + ~1)}{\\beta} \n",
    "-\\frac{1}{ 6.354 \\times 10^{-4} \\rho_r g h  \\beta}} $\n",
    "\n",
    "and note that $ a = a(MB) = a(amp, r, power)$\n",
    "So now we have \n",
    "\n",
    "$$ a 10^{f(T)} + b = T $$\n",
    "\n",
    "otherwise undecouple-able\n",
    "\n",
    "$$ \\frac{T}{a} - {10^{ \\left(- \\frac{1520}{T+273} \\right)}}  =  \\frac{b}{a}$$\n",
    "But note that: \n",
    "\n",
    "$$ a = ( {\\color{red}{T}} - b ) 10^{ \\left(\\frac{1520}{ {\\color{red}{T}} +273} \\right)} $$\n",
    "This general form works best to model a(MB(T)); compute the above, and invert to plot T(MB)\n",
    "i.e.\n",
    "\n",
    "$$ a = f(T) $$\n",
    "\n",
    "After doing empirical model of $a$, invert the model to find $T = f(a)$\n",
    "where $a$ happens to be a function of measured backscatter\n",
    "$$ a^{-1} = f(a) = T =f(MB)$$\n",
    "\n",
    "\n",
    "\n",
    "Notes on temperature conversions from counts to celcius, and the scale factor for amplitude\n",
    "From winriver user guide:\n",
    " $$ MB = C \\times I_{cts} + 20 log_{10}(\\psi r) + 2r \\alpha - 10 log_{10} \\left( \\frac{L_{xmit}}{cos(\\theta)}   \\right)  $$\n",
    "\n",
    " where $ \\alpha$ is the sound absorption coefficient including both sediment and water corrections $\\alpha = \\alpha_w + \\alpha_s $,\\\n",
    " in our case, we use only water correction $ \\alpha_w $ so $\\alpha = \\alpha_w $\n",
    "Scale factor C for turning amplitude in counts to a backscatter correction in decibels \\\n",
    "Documented in winriver user guide\n",
    "$$ C = \\frac{127.3}{ T_e + 273} $$\n",
    "We are given temperature $T_{ITS-90} =  T_C$ in celcius converted from $T_{amb} ~$\n",
    "$$ T_{C} = T_{amb} \\times \\gamma $$\n",
    "Where an unknown function $ \\gamma = f(x,y,...)$  scales $ T_{amb} \\to T_{C}$ \\\n",
    "assume $ \\gamma$  holds for all  $ T_{counts}  \\to  T_{ITS-90} $ conversions at timestamp $t$  and depth D \\\n",
    "Then $\\gamma$ scales electronics temperature $T_{att} \\to T_{att,ITS-90} = T_e $ at timestamp $t$\n",
    "\n",
    "\n",
    "$$ T_{e} = \\left( \\frac{T_{C}}{T_{amb}} \\right) \\times T_{att} $$\n",
    "\n",
    "$$ \\implies C  =  \\frac{127.3}{ \\left( \\frac{T_{C}}{T_{amb}} \\right) \\times T_{att} + 273} $$\n",
    "\n",
    "Note that $L_{xmit}$ is the same as the bin depth for our case, this is documented in both WR and WH user guides.\n",
    "\n",
    "$ L_{xmit} = 1$ meter\\\n",
    "so then $ 10 \\times log_{10} \\left( \\frac{L_{xmit}}{cos(\\theta)}   \\right) $ is our transmit power correction term where\\\n",
    " $ \\frac{L_{xmit}}{cos(\\theta)} = \\frac{L_{xmit}}{cos(\\theta)} / P_{ref} $\n",
    "\n",
    " $$ MB = (C \\times I_{cts}) + 20 log_{10}(\\psi r) + 2r \\alpha - 10 log_{10} \\left( \\frac{L_{xmit}}{cos(\\theta)}   \\right)  $$\n",
    "\n",
    " $$ \\alpha =\n",
    "\\left( 8.69 \n",
    "\\frac{ B_{w} F^{2} } {21.9 \\times 10^{ \\left( 6 -  \\frac{1520}{T+273} \\right)  } }\n",
    "\\right) (1 - 6.54 \\times 10^{-4}P)\n",
    "$$\n",
    "Let $ f = f(x_1,x_2,x_3,  ... x_n ), $ \\\n",
    "The non-linear uncertainty propagation of a multivariate function for n variables is\n",
    "$$ \\sigma_f =  \\sqrt{ \\sum_{i=1}^{n}\n",
    "    \\left( \\frac{\\partial f}{\\partial x_i} \\right)^2 \\sigma_{x_i} ^2 \n",
    "    + \\sum_{i}^{n} \\sum_{j \\ne i}^{n} \\left( \\frac{\\partial f}{\\partial x_i} \\right)  \\left( \\frac{\\partial f}{\\partial x_j} \\right) \\sigma_{ij} \n",
    "} $$\n",
    "Where the $ \\sigma_{ij} $ term is effectively zero in our case \n",
    "We can find the uncertainty of measured backscatter $\\sigma_{mb} $ by taking the following operator on MB and combining the square of the subsequent terms under the square root\n",
    "\n",
    "$$ \n",
    "\\left[ \\left( \\frac{\\partial }{\\partial T_e} \\right) \\sigma_{T_e} + \n",
    "\\left( \\frac{\\partial}{\\partial A} \\right) \\sigma_{A}  + \n",
    "\\left( \\frac{\\partial}{\\partial r} \\right) \\sigma_{r}  +\n",
    "\\left( \\frac{\\partial}{\\partial T} \\right) \\sigma_{T} \\right] MB \n",
    "$$ \n",
    "\n",
    "$$ \n",
    "- \\frac{aA} {(T_e + b)^2}  \\sigma_{T_e} + \\left( \\frac{a}{T_e + b} \\right) \\sigma_A \n",
    "$$\n",
    "\n",
    "$$\n",
    " -\\frac{20}{ \\ln{10}} \\frac{1}{ r}\\sigma_{r} \n",
    "$$\n",
    "\n",
    "$$\n",
    "r \\gamma (1 - 10^{-4} P) \\left(\\frac{1520}{T +273}\\right) 10^{\\frac{1520}{T +273}} \\sigma_T + 2 \\gamma (1 - 10^{-4} P) 10^{\\frac{1520}{T +273}} \\sigma_r\n",
    "$$\n",
    "\n",
    "$$\n",
    "% \\frac{1}{r^2} \\frac{10}{\\ln (10) } \\sigma_r + \n",
    "r \\gamma \\left(\\frac{1520}{T +273}\\right) 10^{\\frac{1247 -T }{T +273}} \\sigma_T + \n",
    "2 \\gamma 10^{\\frac{1520}{T +273}}  \\sigma_r \n",
    "$$\n"
   ]
  }
 ],
 "metadata": {
  "kernelspec": {
   "display_name": "Python 3 (ipykernel)",
   "language": "python",
   "name": "python3"
  },
  "language_info": {
   "codemirror_mode": {
    "name": "ipython",
    "version": 3
   },
   "file_extension": ".py",
   "mimetype": "text/x-python",
   "name": "python",
   "nbconvert_exporter": "python",
   "pygments_lexer": "ipython3",
   "version": "3.9.16"
  }
 },
 "nbformat": 4,
 "nbformat_minor": 5
}
